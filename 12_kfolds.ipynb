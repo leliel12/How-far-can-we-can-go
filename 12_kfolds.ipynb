{
 "cells": [
  {
   "cell_type": "markdown",
   "metadata": {},
   "source": [
    "# **Section:** Unbalance different size"
   ]
  },
  {
   "cell_type": "code",
   "execution_count": 1,
   "metadata": {},
   "outputs": [
    {
     "name": "stderr",
     "output_type": "stream",
     "text": [
      "/home/jbcabral/miniconda2/envs/howfar/lib/python3.7/site-packages/sklearn/utils/deprecation.py:144: FutureWarning: The sklearn.metrics.ranking module is  deprecated in version 0.22 and will be removed in version 0.24. The corresponding classes / functions should instead be imported from sklearn.metrics. Anything that cannot be imported from sklearn.metrics is now part of the private API.\n",
      "  warnings.warn(message, FutureWarning)\n"
     ]
    }
   ],
   "source": [
    "import os\n",
    "import itertools as it\n",
    "import warnings\n",
    "import time\n",
    "import pickle\n",
    "\n",
    "import numpy as np\n",
    "\n",
    "import pandas as pd\n",
    "\n",
    "%matplotlib inline\n",
    "from matplotlib import pyplot as plt\n",
    "from matplotlib import cm\n",
    "import seaborn as sns\n",
    "\n",
    "import joblib\n",
    "\n",
    "import pathlib\n",
    "\n",
    "from sklearn.ensemble import RandomForestClassifier\n",
    "from sklearn.exceptions import DataConversionWarning\n",
    "from sklearn.model_selection import (\n",
    "    KFold, StratifiedKFold, train_test_split)\n",
    "\n",
    "from sklearn import metrics\n",
    "\n",
    "import tqdm\n",
    "\n",
    "from libs.container import Container\n",
    "from libs.nearest import nearest\n",
    "from libs.experiment import WithAnotherExperiment, roc, metrics\n",
    "from libs.precstar import  prec_star\n",
    "\n",
    "warnings.simplefilter(\"ignore\", category=DataConversionWarning)"
   ]
  },
  {
   "cell_type": "code",
   "execution_count": 2,
   "metadata": {},
   "outputs": [],
   "source": [
    "PATH = pathlib.Path(os.path.abspath(os.path.dirname(\"\")))\n",
    "\n",
    "DATA_PATH = PATH / \"_data\"\n",
    "\n",
    "COLUMNS_NO_FEATURES = ['id', 'tile', 'cnt', 'ra_k', 'dec_k', 'vs_type', 'vs_catalog', 'cls'] \n",
    "\n",
    "tiles = [\"b234\", \"b360\", \"b278\", \"b261\"]"
   ]
  },
  {
   "cell_type": "code",
   "execution_count": 3,
   "metadata": {},
   "outputs": [
    {
     "name": "stdout",
     "output_type": "stream",
     "text": [
      "CPU times: user 4.33 s, sys: 238 ms, total: 4.57 s\n",
      "Wall time: 4.66 s\n"
     ]
    }
   ],
   "source": [
    "%%time\n",
    "\n",
    "path = \"_data/s20k_scaled.pkl.bz2\"\n",
    "\n",
    "\n",
    "train_datas = {}\n",
    "\n",
    "sample = pd.read_pickle(path)\n",
    "\n",
    "# the features\n",
    "X_columns = [c for c in sample.columns if c not in COLUMNS_NO_FEATURES]\n",
    "y_column = \"cls\"\n",
    "\n",
    "sample[X_columns] =  sample[X_columns].astype(np.float32)\n",
    "\n",
    "data = Container({k: v for k, v in sample.groupby(\"tile\") if k in tiles})\n",
    "\n",
    "del sample\n",
    "\n",
    "REAL_SIZES = {'b234': 293013, 'b261': 555693, 'b278': 742153, 'b360': 939110}"
   ]
  },
  {
   "cell_type": "markdown",
   "metadata": {},
   "source": [
    "## Run the classifiers with the selected parameters"
   ]
  },
  {
   "cell_type": "code",
   "execution_count": 4,
   "metadata": {},
   "outputs": [
    {
     "data": {
      "text/plain": [
       "{'criterion': 'entropy',\n",
       " 'max_features': 'log2',\n",
       " 'min_samples_split': 2,\n",
       " 'n_estimators': 500}"
      ]
     },
     "execution_count": 4,
     "metadata": {},
     "output_type": "execute_result"
    }
   ],
   "source": [
    "RF_PARAMS = joblib.load(\"_cache/best_params.pkl.bz2\")[\"rf\"]\n",
    "if \"n_jobs\" in RF_PARAMS:\n",
    "    del RF_PARAMS[\"n_jobs\"]\n",
    "RF_PARAMS"
   ]
  },
  {
   "cell_type": "code",
   "execution_count": 5,
   "metadata": {},
   "outputs": [],
   "source": [
    "def get_combs(data, X_columns, nfolds):\n",
    "    combs = []\n",
    "    for idx, elem in enumerate(data.items()):\n",
    "        tile, df = elem\n",
    "        combs.append({\n",
    "            \"idx\": idx,\n",
    "            \"tile\": tile,\n",
    "            \"test_sample\": df,\n",
    "            \"X_columns\": X_columns,\n",
    "            \"y_column\": \"cls\",\n",
    "            \"nfolds\": nfolds})\n",
    "    return combs\n",
    "    \n",
    "\n",
    "def execute_clf(idx, tile, test_sample,  X_columns, y_column, nfolds):\n",
    "    \n",
    "    skf = StratifiedKFold(n_splits=nfolds)\n",
    "    \n",
    "    X = test_sample[X_columns].values\n",
    "    y = test_sample[y_column].values\n",
    "    \n",
    "    probabilities = None\n",
    "    predictions = np.array([])\n",
    "    y_tests = np.array([])\n",
    "    \n",
    "    for train, test in skf.split(X, y):\n",
    "        x_train = X[train]\n",
    "        y_train = y[train]\n",
    "        x_test = X[test]\n",
    "        y_test = y[test]\n",
    "        \n",
    "        clf = RandomForestClassifier(**RF_PARAMS)\n",
    "        clf.fit(x_train, y_train)\n",
    "        \n",
    "        current_pred = clf.predict(x_test)\n",
    "        current_prob = clf.predict_proba(x_test)\n",
    "        \n",
    "        y_tests = np.hstack([y_tests, y_test])\n",
    "        predictions = np.hstack([predictions, current_pred])\n",
    "        probabilities = (\n",
    "                current_prob if probabilities is None else\n",
    "                np.vstack([probabilities, current_prob ]))\n",
    "            \n",
    "    fpr, tpr, thresholds = metrics.roc_curve(\n",
    "        y_tests, 1.-probabilities[:,0], pos_label=1)\n",
    "    prec_rec_curve = metrics.precision_recall_curve(\n",
    "        y_tests, 1.- probabilities[:,0], pos_label=1)\n",
    "    \n",
    "    roc_auc = metrics.auc(fpr, tpr)\n",
    "    \n",
    "    result = Container({\n",
    "        \"idx\": idx,\n",
    "        \"clf_name\": \"RF\",\n",
    "        \"train_name\": tile,\n",
    "        \"test_name\": f\"KFolds ({nfolds})\",\n",
    "        'fpr': fpr,\n",
    "        'tpr': tpr,\n",
    "        'thresh': thresholds,\n",
    "        'roc_auc': roc_auc,\n",
    "        'prec_rec_curve': prec_rec_curve,\n",
    "        'real_cls': y_tests,\n",
    "        'predictions': predictions,\n",
    "        'probabilities': probabilities,\n",
    "        'confusion_matrix': metrics.confusion_matrix(y_tests, predictions)})    \n",
    "    return result\n",
    "\n",
    "def train_and_run(data, X_columns):\n",
    "    combs = get_combs(data, X_columns, 10)\n",
    "    print(\"Combinaciones: {}\".format(len(combs)))    \n",
    "    with joblib.Parallel(n_jobs=-1) as jobs:\n",
    "        results = jobs(\n",
    "            joblib.delayed(execute_clf)(**p) for p in tqdm.tqdm(combs))\n",
    "    return results"
   ]
  },
  {
   "cell_type": "code",
   "execution_count": 6,
   "metadata": {},
   "outputs": [
    {
     "name": "stderr",
     "output_type": "stream",
     "text": [
      "100%|██████████| 4/4 [00:00<00:00, 2734.67it/s]"
     ]
    },
    {
     "name": "stdout",
     "output_type": "stream",
     "text": [
      "Combinaciones: 4\n"
     ]
    },
    {
     "name": "stderr",
     "output_type": "stream",
     "text": [
      "\n"
     ]
    }
   ],
   "source": [
    "results = train_and_run(data, X_columns)"
   ]
  },
  {
   "cell_type": "code",
   "execution_count": 7,
   "metadata": {},
   "outputs": [
    {
     "data": {
      "image/png": "[encoded data removed]",
      "text/plain": [
       "<Figure size 720x144 with 4 Axes>"
      ]
     },
     "metadata": {
      "needs_background": "light"
     },
     "output_type": "display_data"
    }
   ],
   "source": [
    "def as_df(data):\n",
    "    rows, tiles = [], sorted(list(data.keys()))\n",
    "    for rname in tiles:\n",
    "        row = data[rname].copy()\n",
    "        row.update({\"Tile\": rname}) \n",
    "        rows.append(row)\n",
    "    df = pd.DataFrame(rows)\n",
    "    df = df.set_index(\"Tile\")\n",
    "    return df.T\n",
    "\n",
    "def heatmap(ax, results, fp):\n",
    "    cmap = sns.cm.rocket\n",
    "    \n",
    "    fix_recall, fix_precs = {}, {}\n",
    "    for r in results:\n",
    "        train_name, test_name = r[\"train_name\"], r[\"test_name\"]\n",
    "        \n",
    "        if train_name not in fix_recall:\n",
    "            fix_recall[train_name] = {}\n",
    "            fix_precs[train_name] = {}\n",
    "            \n",
    "        precs, recalls, probs = r.prec_rec_curve\n",
    "        \n",
    "        idx = nearest(recalls, fp)\n",
    "        \n",
    "        fix_recall[train_name][test_name] = recalls[idx]\n",
    "        fix_precs[train_name][test_name] = precs[idx]\n",
    "#     return fix_precs\n",
    "        \n",
    "    fix_precs = as_df(fix_precs)\n",
    "    fix_recall = as_df(fix_recall)\n",
    "    \n",
    "    sns.heatmap(fix_precs, annot=True, fmt='.3f',  linewidths=.5, ax=ax[0], cmap=cmap, center=.5, vmin=0., vmax=1.)\n",
    "    ax[0].set_xlabel(\"Test - Full\")\n",
    "    ax[0].set_title(u\"Precision\".format(fp))\n",
    "    \n",
    "    sns.heatmap(fix_recall, annot=True, fmt='.3f', linewidths=.5, ax=ax[1], cmap=cmap, center=.5, vmin=0., vmax=1.)\n",
    "    ax[1].set_xlabel(\"Test - Full\")\n",
    "    ax[1].set_title(u\"Recall\".format(fp))\n",
    "\n",
    "\n",
    "fig, axs = plt.subplots(1, 2, figsize=(10, 2))\n",
    "heatmap(axs, results, 0.90)\n",
    "axs[0].set_ylabel(\"K-Folds\")\n",
    "\n",
    "axs[0].set_yticklabels([\"\"])\n",
    "axs[1].set_yticklabels([\"\"])\n",
    "    \n",
    "fig.tight_layout()\n",
    "# fig.savefig(plot_path / \"section_unbalanced_diffsize_prec_rec_heatmap.pdf\")"
   ]
  },
  {
   "cell_type": "code",
   "execution_count": 17,
   "metadata": {},
   "outputs": [
    {
     "data": {
      "image/png": "[encoded data removed]",
      "text/plain": [
       "<Figure size 648x360 with 1 Axes>"
      ]
     },
     "metadata": {
      "needs_background": "light"
     },
     "output_type": "display_data"
    }
   ],
   "source": [
    "def plot_prec_roc_curve(ax, train_name, results):\n",
    "    for r in results:\n",
    "        if r.train_name == train_name:\n",
    "            ax.plot(r.prec_rec_curve[1], r.prec_rec_curve[0], label=train_name)\n",
    "            break\n",
    "    ax.set_title(\"K-Fold\")\n",
    "    ax.set_xlabel(\"Recall\")\n",
    "    ax.set_ylabel(\"Precision\")\n",
    "    ax.legend(loc='upper right')\n",
    "\n",
    "fig, ax = plt.subplots(1, 1, figsize=(9, 5))\n",
    "for t in data.keys():\n",
    "    plot_prec_roc_curve(ax, train_name=t, results=results)\n",
    "\n",
    "fig.tight_layout()"
   ]
  },
  {
   "cell_type": "code",
   "execution_count": null,
   "metadata": {},
   "outputs": [],
   "source": [
    "import datetime\n",
    "datetime.datetime.now()"
   ]
  },
  {
   "cell_type": "code",
   "execution_count": null,
   "metadata": {},
   "outputs": [],
   "source": []
  },
  {
   "cell_type": "code",
   "execution_count": null,
   "metadata": {},
   "outputs": [],
   "source": []
  }
 ],
 "metadata": {
  "kernelspec": {
   "display_name": "Python 3",
   "language": "python",
   "name": "python3"
  },
  "language_info": {
   "codemirror_mode": {
    "name": "ipython",
    "version": 3
   },
   "file_extension": ".py",
   "mimetype": "text/x-python",
   "name": "python",
   "nbconvert_exporter": "python",
   "pygments_lexer": "ipython3",
   "version": "3.7.5"
  }
 },
 "nbformat": 4,
 "nbformat_minor": 4
}
