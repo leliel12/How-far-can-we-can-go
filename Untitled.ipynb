{
 "cells": [
  {
   "cell_type": "code",
   "execution_count": 35,
   "metadata": {},
   "outputs": [],
   "source": [
    "import pandas as pd\n",
    "import numpy as np\n",
    "\n",
    "import pathlib\n",
    "import os\n",
    "\n",
    "%matplotlib inline\n",
    "from matplotlib import pyplot as plt\n",
    "from matplotlib import cm\n",
    "import seaborn as sns\n",
    "\n",
    "COLUMNS_NO_FEATURES = ['id', 'tile', 'cnt', 'ra_k', 'dec_k', 'vs_type', 'vs_catalog', 'cls'] "
   ]
  },
  {
   "cell_type": "code",
   "execution_count": 4,
   "metadata": {},
   "outputs": [],
   "source": [
    "PATH = pathlib.Path(os.path.abspath(os.path.dirname(\"\")))"
   ]
  },
  {
   "cell_type": "code",
   "execution_count": 64,
   "metadata": {},
   "outputs": [],
   "source": [
    "DATA_PATH = PATH / \"bin\""
   ]
  },
  {
   "cell_type": "code",
   "execution_count": 145,
   "metadata": {},
   "outputs": [
    {
     "name": "stdout",
     "output_type": "stream",
     "text": [
      "/home/jbcabral/how_far_can_we_go/bin/b206.pkl.bz2\n",
      "/home/jbcabral/how_far_can_we_go/bin/b214.pkl.bz2\n",
      "/home/jbcabral/how_far_can_we_go/bin/b216.pkl.bz2\n",
      "/home/jbcabral/how_far_can_we_go/bin/b220.pkl.bz2\n",
      "/home/jbcabral/how_far_can_we_go/bin/b228.pkl.bz2\n",
      "/home/jbcabral/how_far_can_we_go/bin/b234.pkl.bz2\n",
      "/home/jbcabral/how_far_can_we_go/bin/b247.pkl.bz2\n",
      "/home/jbcabral/how_far_can_we_go/bin/b248.pkl.bz2\n",
      "/home/jbcabral/how_far_can_we_go/bin/b261.pkl.bz2\n",
      "/home/jbcabral/how_far_can_we_go/bin/b262.pkl.bz2\n",
      "/home/jbcabral/how_far_can_we_go/bin/b263.pkl.bz2\n",
      "/home/jbcabral/how_far_can_we_go/bin/b264.pkl.bz2\n",
      "/home/jbcabral/how_far_can_we_go/bin/b277.pkl.bz2\n",
      "/home/jbcabral/how_far_can_we_go/bin/b278.pkl.bz2\n",
      "/home/jbcabral/how_far_can_we_go/bin/b360.pkl.bz2\n",
      "/home/jbcabral/how_far_can_we_go/bin/b396.pkl.bz2\n"
     ]
    }
   ],
   "source": [
    "for d in DATA_PATH.glob(\"*.pkl.bz2\"):\n",
    "    tile = d.name.split(\".\")[0]\n",
    "\n",
    "    original = pd.read_pickle(d)\n",
    "    \n",
    "    new_path = f\"/home/jbcabral/carpyncho3/production_data/stored/light_curves/{tile}/features_{tile}.npy\"\n",
    "    new = pd.DataFrame(np.load(new_path, allow_pickle=True))\n",
    "    new = new[new.id.isin(original.id)]\n",
    "    new[\"vs_type\"] = new.vs_type.str.decode(\"utf-8\")\n",
    "    new[\"cls\"] = new.vs_type.apply(lambda t: 1 if t != \"\" else 0)\n",
    "    new[\"tile\"] = new.id.apply(lambda i: \"b\" + str(i)[1:4])\n",
    "#     break\n",
    "    \n",
    "    \n",
    "    new.to_pickle(d, compression=\"bz2\")\n",
    "    print(d)"
   ]
  },
  {
   "cell_type": "code",
   "execution_count": 146,
   "metadata": {},
   "outputs": [],
   "source": [
    "df = pd.read_pickle(\"_data/s20k.pkl.bz2\")"
   ]
  },
  {
   "cell_type": "code",
   "execution_count": 151,
   "metadata": {},
   "outputs": [
    {
     "name": "stdout",
     "output_type": "stream",
     "text": [
      "Period_fit\n"
     ]
    }
   ],
   "source": [
    "for x in df.columns:\n",
    "    if df[x].dtype == object:\n",
    "        continue\n",
    "    if np.isinf(df[x].values).sum():\n",
    "        print(x)"
   ]
  },
  {
   "cell_type": "code",
   "execution_count": 153,
   "metadata": {},
   "outputs": [
    {
     "name": "stdout",
     "output_type": "stream",
     "text": [
      "(1, 72)\n",
      "['']\n"
     ]
    }
   ],
   "source": [
    "\n",
    "print (df[np.isinf(df.Period_fit.values)].shape)\n",
    "\n",
    "print( df[np.isinf(df.Period_fit.values)].vs_type.unique())"
   ]
  },
  {
   "cell_type": "code",
   "execution_count": null,
   "metadata": {},
   "outputs": [],
   "source": []
  }
 ],
 "metadata": {
  "kernelspec": {
   "display_name": "Python 3",
   "language": "python",
   "name": "python3"
  },
  "language_info": {
   "codemirror_mode": {
    "name": "ipython",
    "version": 3
   },
   "file_extension": ".py",
   "mimetype": "text/x-python",
   "name": "python",
   "nbconvert_exporter": "python",
   "pygments_lexer": "ipython3",
   "version": "3.7.5"
  }
 },
 "nbformat": 4,
 "nbformat_minor": 4
}
