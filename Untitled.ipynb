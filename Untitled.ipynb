{
 "cells": [
  {
   "cell_type": "code",
   "execution_count": 1,
   "metadata": {},
   "outputs": [],
   "source": [
    "import pandas as pd\n",
    "import numpy as np\n",
    "\n",
    "import pathlib\n",
    "import os\n",
    "\n",
    "%matplotlib inline\n",
    "from matplotlib import pyplot as plt\n",
    "from matplotlib import cm\n",
    "import seaborn as sns\n",
    "\n",
    "COLUMNS_NO_FEATURES = ['id', 'tile', 'cnt', 'ra_k', 'dec_k', 'vs_type', 'vs_catalog', 'cls'] "
   ]
  },
  {
   "cell_type": "code",
   "execution_count": 2,
   "metadata": {},
   "outputs": [],
   "source": [
    "PATH = pathlib.Path(os.path.abspath(os.path.dirname(\"\")))"
   ]
  },
  {
   "cell_type": "code",
   "execution_count": 3,
   "metadata": {},
   "outputs": [],
   "source": [
    "DATA_PATH = PATH / \"bin\""
   ]
  },
  {
   "cell_type": "code",
   "execution_count": 145,
   "metadata": {},
   "outputs": [
    {
     "name": "stdout",
     "output_type": "stream",
     "text": [
      "/home/jbcabral/how_far_can_we_go/bin/b206.pkl.bz2\n",
      "/home/jbcabral/how_far_can_we_go/bin/b214.pkl.bz2\n",
      "/home/jbcabral/how_far_can_we_go/bin/b216.pkl.bz2\n",
      "/home/jbcabral/how_far_can_we_go/bin/b220.pkl.bz2\n",
      "/home/jbcabral/how_far_can_we_go/bin/b228.pkl.bz2\n",
      "/home/jbcabral/how_far_can_we_go/bin/b234.pkl.bz2\n",
      "/home/jbcabral/how_far_can_we_go/bin/b247.pkl.bz2\n",
      "/home/jbcabral/how_far_can_we_go/bin/b248.pkl.bz2\n",
      "/home/jbcabral/how_far_can_we_go/bin/b261.pkl.bz2\n",
      "/home/jbcabral/how_far_can_we_go/bin/b262.pkl.bz2\n",
      "/home/jbcabral/how_far_can_we_go/bin/b263.pkl.bz2\n",
      "/home/jbcabral/how_far_can_we_go/bin/b264.pkl.bz2\n",
      "/home/jbcabral/how_far_can_we_go/bin/b277.pkl.bz2\n",
      "/home/jbcabral/how_far_can_we_go/bin/b278.pkl.bz2\n",
      "/home/jbcabral/how_far_can_we_go/bin/b360.pkl.bz2\n",
      "/home/jbcabral/how_far_can_we_go/bin/b396.pkl.bz2\n"
     ]
    }
   ],
   "source": [
    "for d in DATA_PATH.glob(\"*.pkl.bz2\"):\n",
    "    tile = d.name.split(\".\")[0]\n",
    "\n",
    "    original = pd.read_pickle(d)\n",
    "    \n",
    "    new_path = f\"/home/jbcabral/carpyncho3/production_data/stored/light_curves/{tile}/features_{tile}.npy\"\n",
    "    new = pd.DataFrame(np.load(new_path, allow_pickle=True))\n",
    "    new = new[new.id.isin(original.id)]\n",
    "    new[\"vs_type\"] = new.vs_type.str.decode(\"utf-8\")\n",
    "    new[\"cls\"] = new.vs_type.apply(lambda t: 1 if t != \"\" else 0)\n",
    "    new[\"tile\"] = new.id.apply(lambda i: \"b\" + str(i)[1:4])\n",
    "#     break\n",
    "    \n",
    "    \n",
    "    new.to_pickle(d, compression=\"bz2\")\n",
    "    print(d)"
   ]
  },
  {
   "cell_type": "code",
   "execution_count": 146,
   "metadata": {},
   "outputs": [],
   "source": [
    "df = pd.read_pickle(\"_data/s20k.pkl.bz2\")"
   ]
  },
  {
   "cell_type": "code",
   "execution_count": 151,
   "metadata": {},
   "outputs": [
    {
     "name": "stdout",
     "output_type": "stream",
     "text": [
      "Period_fit\n"
     ]
    }
   ],
   "source": [
    "for x in df.columns:\n",
    "    if df[x].dtype == object:\n",
    "        continue\n",
    "    if np.isinf(df[x].values).sum():\n",
    "        print(x)"
   ]
  },
  {
   "cell_type": "code",
   "execution_count": 153,
   "metadata": {},
   "outputs": [
    {
     "name": "stdout",
     "output_type": "stream",
     "text": [
      "(1, 72)\n",
      "['']\n"
     ]
    }
   ],
   "source": [
    "\n",
    "print (df[np.isinf(df.Period_fit.values)].shape)\n",
    "\n",
    "print( df[np.isinf(df.Period_fit.values)].vs_type.unique())"
   ]
  },
  {
   "cell_type": "code",
   "execution_count": 6,
   "metadata": {},
   "outputs": [],
   "source": [
    "for d in DATA_PATH.glob(\"*.pkl.bz2\"):\n",
    "    df = pd.read_pickle(d)\n",
    "    break"
   ]
  },
  {
   "cell_type": "code",
   "execution_count": 7,
   "metadata": {},
   "outputs": [],
   "source": [
    "import matplotlib.pyplot as plt\n",
    "%matplotlib inline"
   ]
  },
  {
   "cell_type": "code",
   "execution_count": 2,
   "metadata": {},
   "outputs": [],
   "source": [
    "import pandas as pd\n",
    "df = pd.read_pickle(\"_data/sO2O.pkl.bz2\")"
   ]
  },
  {
   "cell_type": "code",
   "execution_count": 3,
   "metadata": {},
   "outputs": [],
   "source": [
    "import seaborn as sns"
   ]
  },
  {
   "cell_type": "code",
   "execution_count": 17,
   "metadata": {},
   "outputs": [],
   "source": [
    "df =df.drop([\"StetsonK\"], axis=1)"
   ]
  },
  {
   "cell_type": "code",
   "execution_count": 18,
   "metadata": {},
   "outputs": [],
   "source": [
    "X_columns = [c for c in df.columns if c not in ['id', 'tile', 'cnt', 'ra_k', 'dec_k', 'vs_type', 'vs_catalog', 'cls'] ]"
   ]
  },
  {
   "cell_type": "code",
   "execution_count": 9,
   "metadata": {},
   "outputs": [
    {
     "data": {
      "text/plain": [
       "<matplotlib.collections.PathCollection at 0x7efce7375f90>"
      ]
     },
     "execution_count": 9,
     "metadata": {},
     "output_type": "execute_result"
    },
    {
     "data": {
      "image/png": "[encoded data removed]",
      "text/plain": [
       "<Figure size 432x288 with 1 Axes>"
      ]
     },
     "metadata": {
      "needs_background": "light"
     },
     "output_type": "display_data"
    }
   ],
   "source": [
    "plt.scatter(df.Meanvariance, df.Std)"
   ]
  },
  {
   "cell_type": "code",
   "execution_count": null,
   "metadata": {},
   "outputs": [],
   "source": [
    "from scipy import stats\n",
    "from scipy.cluster.hierarchy import dendrogram, linkage\n",
    "from scipy.spatial.distance import squareform\n",
    "\n",
    "# aca cargo los datos\n",
    "all_data = pd.concat(data.values(), ignore_index=True)\n",
    "\n",
    "# aca le calculo la correlacion a todo\n",
    "corr = all_data[X_columns].corr(method=\"pearson\").values\n",
    "corr = np.abs(np.tril(corr, -1))\n",
    "\n",
    "# todo lo que es menos .9 lo plancho a 0\n",
    "corr[corr < .9] = 0\n",
    "\n",
    "# calculo las distancias con el 1 - triangulo inf (tril)\n",
    "distances = linkage(1-corr, method=\"single\", optimal_ordering=True)\n",
    "\n",
    "# grafico el dendograma\n",
    "fig, ax = plt.subplots(figsize=(15, 8))\n",
    "ddata = dendrogram(distances, labels=X_columns, ax=ax); \n",
    "\n",
    "plt.tight_layout()\n",
    "# fig.savefig(\"plots/s_features/dendro.pdf\")"
   ]
  },
  {
   "cell_type": "code",
   "execution_count": 5,
   "metadata": {},
   "outputs": [],
   "source": [
    "import pandas as pd"
   ]
  },
  {
   "cell_type": "code",
   "execution_count": 12,
   "metadata": {},
   "outputs": [
    {
     "data": {
      "text/plain": [
       "count    3.162089e+06\n",
       "mean     1.487587e+01\n",
       "std      1.599968e+00\n",
       "min      8.331102e+00\n",
       "25%      1.370205e+01\n",
       "50%      1.522719e+01\n",
       "75%      1.616406e+01\n",
       "max      1.756742e+01\n",
       "Name: Mean, dtype: float64"
      ]
     },
     "execution_count": 12,
     "metadata": {},
     "output_type": "execute_result"
    }
   ],
   "source": [
    "pd.read_pickle(\"_data/full.pkl.bz2\").Mean.describe()"
   ]
  },
  {
   "cell_type": "code",
   "execution_count": 11,
   "metadata": {},
   "outputs": [
    {
     "data": {
      "text/plain": [
       "count    316165.000000\n",
       "mean         15.135144\n",
       "std           1.152549\n",
       "min          11.936758\n",
       "25%          14.379038\n",
       "50%          15.490664\n",
       "75%          16.091591\n",
       "max          16.583933\n",
       "Name: Mean, dtype: float64"
      ]
     },
     "execution_count": 11,
     "metadata": {},
     "output_type": "execute_result"
    }
   ],
   "source": [
    "df.Mean.describe()"
   ]
  },
  {
   "cell_type": "code",
   "execution_count": 4,
   "metadata": {},
   "outputs": [],
   "source": [
    "df=pd.read_pickle(\"_data/full.pkl.bz2\")"
   ]
  },
  {
   "cell_type": "code",
   "execution_count": 5,
   "metadata": {},
   "outputs": [],
   "source": [
    "def sample(df, **k):\n",
    "    sample = []\n",
    "    for t, g in df.groupby(\"tile\"):\n",
    "        rr = g[g.cls == 1]\n",
    "        unk = g[g.cls == 0].sample(**k)\n",
    "        sample.extend([rr, unk])\n",
    "    return pd.concat(sample)\n",
    "\n",
    "def sample_o2o(df):\n",
    "    sample = []\n",
    "    for t, g in df.groupby(\"tile\"):\n",
    "        rr = g[g.cls == 1]\n",
    "        unk = g[g.cls == 0].sample(len(rr))\n",
    "        sample.extend([rr, unk])\n",
    "    return pd.concat(sample)"
   ]
  },
  {
   "cell_type": "code",
   "execution_count": 8,
   "metadata": {},
   "outputs": [
    {
     "data": {
      "text/plain": [
       "['bin/sampleids3.pkl']"
      ]
     },
     "execution_count": 8,
     "metadata": {},
     "output_type": "execute_result"
    }
   ],
   "source": [
    "s10p = sample(df, frac=.1)\n",
    "s20k = sample(s10p, n=20000)\n",
    "s5k = sample(s20k, n=5000)\n",
    "s2_5k = sample(s5k, n=2500)\n",
    "sO2O = sample_o2o(s2_5k)\n",
    "\n",
    "import joblib\n",
    "joblib.dump({\n",
    "    0.1: s10p.id.values,\n",
    "    20000: s20k.id.values,\n",
    "    5000: s5k.id.values,\n",
    "    2500: s2_5k.id.values,\n",
    "    'O2O': sO2O.id.values\n",
    "}, \"bin/sampleids3.pkl\")"
   ]
  },
  {
   "cell_type": "code",
   "execution_count": 13,
   "metadata": {},
   "outputs": [
    {
     "data": {
      "text/plain": [
       "(2529969, 70)"
      ]
     },
     "execution_count": 13,
     "metadata": {},
     "output_type": "execute_result"
    }
   ],
   "source": [
    "df.saple(frac=.10).shape"
   ]
  },
  {
   "cell_type": "code",
   "execution_count": 15,
   "metadata": {},
   "outputs": [
    {
     "data": {
      "text/plain": [
       "(252997, 70)"
      ]
     },
     "execution_count": 15,
     "metadata": {},
     "output_type": "execute_result"
    }
   ],
   "source": [
    "df.sample(frac=.10).shape"
   ]
  },
  {
   "cell_type": "code",
   "execution_count": 46,
   "metadata": {},
   "outputs": [
    {
     "data": {
      "text/plain": [
       "{5000: array([32060000010787, 32060000010888, 32060000016652, ...,\n",
       "        33960000541057, 33960000988381, 33960000610181]),\n",
       " 2500: array([32060000010787, 32060000010888, 32060000016652, ...,\n",
       "        33960000349955, 33960000611577, 33960000339073]),\n",
       " 'O2O': array([32060000010787, 32060000010888, 32060000016652, ...,\n",
       "        33960000131250, 33960000712054, 33960000826229]),\n",
       " 20000: array([32060000000932, 32060000000949, 32060000000951, ...,\n",
       "        33960000995228, 33960000995237, 33960000995262])}"
      ]
     },
     "execution_count": 46,
     "metadata": {},
     "output_type": "execute_result"
    }
   ],
   "source": [
    "joblib.load(\"bin/sampleids.pkl\")"
   ]
  },
  {
   "cell_type": "code",
   "execution_count": null,
   "metadata": {},
   "outputs": [],
   "source": []
  },
  {
   "cell_type": "code",
   "execution_count": 27,
   "metadata": {},
   "outputs": [
    {
     "data": {
      "text/plain": [
       "{5000: array([32060000010787, 32060000010888, 32060000016652, ...,\n",
       "        33960000541057, 33960000988381, 33960000610181]),\n",
       " 2500: array([32060000010787, 32060000010888, 32060000016652, ...,\n",
       "        33960000349955, 33960000611577, 33960000339073]),\n",
       " 'O2O': array([32060000010787, 32060000010888, 32060000016652, ...,\n",
       "        33960000131250, 33960000712054, 33960000826229])}"
      ]
     },
     "execution_count": 27,
     "metadata": {},
     "output_type": "execute_result"
    }
   ],
   "source": [
    "ids"
   ]
  },
  {
   "cell_type": "code",
   "execution_count": null,
   "metadata": {},
   "outputs": [],
   "source": [
    "d"
   ]
  }
 ],
 "metadata": {
  "kernelspec": {
   "display_name": "Python 3",
   "language": "python",
   "name": "python3"
  },
  "language_info": {
   "codemirror_mode": {
    "name": "ipython",
    "version": 3
   },
   "file_extension": ".py",
   "mimetype": "text/x-python",
   "name": "python",
   "nbconvert_exporter": "python",
   "pygments_lexer": "ipython3",
   "version": "3.7.5"
  }
 },
 "nbformat": 4,
 "nbformat_minor": 4
}
