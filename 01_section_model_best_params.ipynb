{
 "cells": [
  {
   "cell_type": "markdown",
   "metadata": {},
   "source": [
    "# **Section:** Model Selection"
   ]
  },
  {
   "cell_type": "code",
   "execution_count": 1,
   "metadata": {},
   "outputs": [
    {
     "name": "stderr",
     "output_type": "stream",
     "text": [
      "/home/jbcabral/miniconda2/envs/howfar/lib/python3.7/site-packages/sklearn/utils/deprecation.py:144: FutureWarning: The sklearn.metrics.ranking module is  deprecated in version 0.22 and will be removed in version 0.24. The corresponding classes / functions should instead be imported from sklearn.metrics. Anything that cannot be imported from sklearn.metrics is now part of the private API.\n",
      "  warnings.warn(message, FutureWarning)\n"
     ]
    }
   ],
   "source": [
    "import os\n",
    "import itertools as it\n",
    "import warnings\n",
    "import time\n",
    "import pickle\n",
    "\n",
    "import numpy as np\n",
    "\n",
    "import pandas as pd\n",
    "\n",
    "%matplotlib inline\n",
    "from matplotlib import pyplot as plt\n",
    "from matplotlib import cm\n",
    "import seaborn as sns\n",
    "\n",
    "import joblib\n",
    "\n",
    "import pathlib\n",
    "\n",
    "from sklearn.ensemble import RandomForestClassifier\n",
    "from sklearn.svm import SVC\n",
    "from sklearn.neighbors import KNeighborsClassifier\n",
    "from sklearn.exceptions import DataConversionWarning\n",
    "\n",
    "from sklearn import metrics\n",
    "\n",
    "from sklearn.model_selection import train_test_split\n",
    "from sklearn.model_selection import GridSearchCV\n",
    "from sklearn.metrics import classification_report\n",
    "\n",
    "import tqdm\n",
    "\n",
    "from libs.container import Container\n",
    "from libs.nearest import nearest\n",
    "from libs.experiment import WithAnotherExperiment, roc, metrics\n",
    "from libs.precstar import  prec_star\n",
    "\n",
    "warnings.simplefilter(\"ignore\", category=DataConversionWarning)"
   ]
  },
  {
   "cell_type": "code",
   "execution_count": 2,
   "metadata": {},
   "outputs": [],
   "source": [
    "PATH = pathlib.Path(os.path.abspath(os.path.dirname(\"\")))\n",
    "\n",
    "DATA_PATH = PATH / \"_data\" / \"s20k_scaled.pkl.bz2\"\n",
    "DATA_PATH = PATH / \"bkp\" / \"s20k_scaled.pkl.bz2\"\n",
    "\n",
    "COLUMNS_NO_FEATURES = ['id', 'tile', 'cnt', 'ra_k', 'dec_k', 'vs_type', 'vs_catalog', 'cls'] "
   ]
  },
  {
   "cell_type": "code",
   "execution_count": 3,
   "metadata": {},
   "outputs": [],
   "source": [
    "sample = pd.read_pickle(DATA_PATH)\n",
    "\n",
    "# the features\n",
    "X_columns = [c for c in sample.columns if c not in COLUMNS_NO_FEATURES]\n",
    "y_column = \"cls\"\n",
    "\n",
    "sample[X_columns] =  sample[X_columns].astype(np.float32)\n",
    "\n",
    "data = Container({k: v for k, v in sample.groupby(\"tile\") if k in [\"b234\", \"b360\", \"b278\", \"b261\"]})\n",
    "\n",
    "del sample"
   ]
  },
  {
   "cell_type": "code",
   "execution_count": 5,
   "metadata": {},
   "outputs": [
    {
     "data": {
      "text/plain": [
       "62"
      ]
     },
     "execution_count": 5,
     "metadata": {},
     "output_type": "execute_result"
    }
   ],
   "source": [
    "len(X_columns)"
   ]
  },
  {
   "cell_type": "code",
   "execution_count": 4,
   "metadata": {},
   "outputs": [],
   "source": [
    "def score_func(y, y_prob, **kwargs):\n",
    "    prec, rec, thr = metrics.precision_recall_curve(\n",
    "            y, y_prob, sample_weight=Nonbkp/\n",
    "    idx = nearest(array=rec, value=.9)\n",
    "    return prec[idx]\n",
    "\n",
    "\n",
    "def grid_search(data, estimator, param_grid):\n",
    "    print(f\"Running {type(estimator)}\")\n",
    "    clf = GridSearchCV(\n",
    "        estimator, \n",
    "        param_grid, \n",
    "        cv=5, scoring=metrics.make_scorer(score_func, needs_proba=True), n_jobs=-1)\n",
    "\n",
    "    X, y = data[X_columns].values, data.cls.values\n",
    "\n",
    "    X_train, X_test, y_train, y_test = train_test_split(X, y, test_size=0.2, random_state=42)\n",
    "\n",
    "    clf.fit(X_train, y_train)\n",
    "\n",
    "    print(\"Best parameters set found on development set:\")\n",
    "    print()\n",
    "    print(clf.best_params_)\n",
    "\n",
    "    print()\n",
    "    print(\"Grid scores on development set:\")\n",
    "    print()\n",
    "    means = clf.cv_results_['mean_test_score']\n",
    "    stds = clf.cv_results_['std_test_score']\n",
    "    for mean, std, params in zip(means, stds, clf.cv_results_['params']):\n",
    "        print(\"%0.3f (+/-%0.03f) for %r\"\n",
    "              % (mean, std * 2, params))\n",
    "    print()\n",
    "\n",
    "    print(\"Detailed classification report:\")\n",
    "    print()\n",
    "    print(\"The model is trained on the full development set.\")\n",
    "    print(\"The scores are computed on the full evaluation set.\")\n",
    "    print()\n",
    "    y_true, y_pred = y_test, clf.predict(X_test)\n",
    "    print(classification_report(y_true, y_pred))\n",
    "    print()\n",
    "\n",
    "    return clf"
   ]
  },
  {
   "cell_type": "markdown",
   "metadata": {},
   "source": [
    "## SVM-RBF"
   ]
  },
  {
   "cell_type": "code",
   "execution_count": 5,
   "metadata": {},
   "outputs": [],
   "source": [
    "gamma_range = np.array([1.e-4, 3.e-4, 1.e+3, 3.e-3])"
   ]
  },
  {
   "cell_type": "code",
   "execution_count": 6,
   "metadata": {
    "scrolled": true
   },
   "outputs": [
    {
     "name": "stdout",
     "output_type": "stream",
     "text": [
      "Running <class 'sklearn.svm._classes.SVC'>\n",
      "Best parameters set found on development set:\n",
      "\n",
      "{'C': 10, 'gamma': 0.003, 'kernel': 'rbf', 'probability': True}\n",
      "\n",
      "Grid scores on development set:\n",
      "\n",
      "0.245 (+/-0.143) for {'C': 1, 'gamma': 0.0001, 'kernel': 'rbf', 'probability': True}\n",
      "0.251 (+/-0.151) for {'C': 1, 'gamma': 0.0003, 'kernel': 'rbf', 'probability': True}\n",
      "0.022 (+/-0.000) for {'C': 1, 'gamma': 1000.0, 'kernel': 'rbf', 'probability': True}\n",
      "0.343 (+/-0.161) for {'C': 1, 'gamma': 0.003, 'kernel': 'rbf', 'probability': True}\n",
      "0.258 (+/-0.161) for {'C': 10, 'gamma': 0.0001, 'kernel': 'rbf', 'probability': True}\n",
      "0.298 (+/-0.220) for {'C': 10, 'gamma': 0.0003, 'kernel': 'rbf', 'probability': True}\n",
      "0.022 (+/-0.000) for {'C': 10, 'gamma': 1000.0, 'kernel': 'rbf', 'probability': True}\n",
      "0.388 (+/-0.144) for {'C': 10, 'gamma': 0.003, 'kernel': 'rbf', 'probability': True}\n",
      "0.283 (+/-0.218) for {'C': 30, 'gamma': 0.0001, 'kernel': 'rbf', 'probability': True}\n",
      "0.306 (+/-0.177) for {'C': 30, 'gamma': 0.0003, 'kernel': 'rbf', 'probability': True}\n",
      "0.022 (+/-0.000) for {'C': 30, 'gamma': 1000.0, 'kernel': 'rbf', 'probability': True}\n",
      "0.369 (+/-0.206) for {'C': 30, 'gamma': 0.003, 'kernel': 'rbf', 'probability': True}\n",
      "0.278 (+/-0.205) for {'C': 50, 'gamma': 0.0001, 'kernel': 'rbf', 'probability': True}\n",
      "0.296 (+/-0.183) for {'C': 50, 'gamma': 0.0003, 'kernel': 'rbf', 'probability': True}\n",
      "0.022 (+/-0.000) for {'C': 50, 'gamma': 1000.0, 'kernel': 'rbf', 'probability': True}\n",
      "0.343 (+/-0.184) for {'C': 50, 'gamma': 0.003, 'kernel': 'rbf', 'probability': True}\n",
      "0.280 (+/-0.188) for {'C': 100, 'gamma': 0.0001, 'kernel': 'rbf', 'probability': True}\n",
      "0.328 (+/-0.199) for {'C': 100, 'gamma': 0.0003, 'kernel': 'rbf', 'probability': True}\n",
      "0.022 (+/-0.000) for {'C': 100, 'gamma': 1000.0, 'kernel': 'rbf', 'probability': True}\n",
      "0.341 (+/-0.154) for {'C': 100, 'gamma': 0.003, 'kernel': 'rbf', 'probability': True}\n",
      "\n",
      "Detailed classification report:\n",
      "\n",
      "The model is trained on the full development set.\n",
      "The scores are computed on the full evaluation set.\n",
      "\n",
      "              precision    recall  f1-score   support\n",
      "\n",
      "           0       1.00      1.00      1.00      4005\n",
      "           1       0.94      0.78      0.86        83\n",
      "\n",
      "    accuracy                           0.99      4088\n",
      "   macro avg       0.97      0.89      0.93      4088\n",
      "weighted avg       0.99      0.99      0.99      4088\n",
      "\n",
      "\n",
      "CPU times: user 8.96 s, sys: 238 ms, total: 9.2 s\n",
      "Wall time: 46min 2s\n"
     ]
    }
   ],
   "source": [
    "%%time\n",
    "svc_rbf = grid_search(\n",
    "    data=data.b278, \n",
    "    estimator=SVC(),\n",
    "    param_grid=[{\n",
    "        'kernel': ['rbf'], \n",
    "        'C': [1, 10, 30, 50, 100], \n",
    "        \"gamma\": gamma_range, \n",
    "        \"probability\": [True]}])"
   ]
  },
  {
   "cell_type": "markdown",
   "metadata": {},
   "source": [
    "## SVM-Linear "
   ]
  },
  {
   "cell_type": "code",
   "execution_count": 8,
   "metadata": {},
   "outputs": [
    {
     "name": "stdout",
     "output_type": "stream",
     "text": [
      "Running <class 'sklearn.svm._classes.SVC'>\n",
      "Best parameters set found on development set:\n",
      "\n",
      "{'C': 50, 'kernel': 'linear', 'probability': True}\n",
      "\n",
      "Grid scores on development set:\n",
      "\n",
      "0.247 (+/-0.199) for {'C': 20, 'kernel': 'linear', 'probability': True}\n",
      "0.243 (+/-0.205) for {'C': 30, 'kernel': 'linear', 'probability': True}\n",
      "0.247 (+/-0.198) for {'C': 40, 'kernel': 'linear', 'probability': True}\n",
      "0.251 (+/-0.203) for {'C': 50, 'kernel': 'linear', 'probability': True}\n",
      "0.251 (+/-0.203) for {'C': 60, 'kernel': 'linear', 'probability': True}\n",
      "0.246 (+/-0.195) for {'C': 100, 'kernel': 'linear', 'probability': True}\n",
      "\n",
      "Detailed classification report:\n",
      "\n",
      "The model is trained on the full development set.\n",
      "The scores are computed on the full evaluation set.\n",
      "\n",
      "              precision    recall  f1-score   support\n",
      "\n",
      "           0       1.00      1.00      1.00      4005\n",
      "           1       0.90      0.77      0.83        83\n",
      "\n",
      "    accuracy                           0.99      4088\n",
      "   macro avg       0.95      0.88      0.91      4088\n",
      "weighted avg       0.99      0.99      0.99      4088\n",
      "\n",
      "\n",
      "CPU times: user 4min 18s, sys: 1.12 s, total: 4min 19s\n",
      "Wall time: 16min 31s\n"
     ]
    }
   ],
   "source": [
    "%%time\n",
    "\n",
    "Cs = [20, 30, 40,  50, 60, 100]\n",
    "\n",
    "svc_linear = grid_search(\n",
    "    data=data.b278, \n",
    "    estimator=SVC(probability=True),\n",
    "    param_grid=[{'kernel': ['linear'], 'C': Cs, \"probability\": [True]}])\n"
   ]
  },
  {
   "cell_type": "markdown",
   "metadata": {},
   "source": [
    "## KNN"
   ]
  },
  {
   "cell_type": "code",
   "execution_count": 20,
   "metadata": {},
   "outputs": [
    {
     "data": {
      "text/plain": [
       "[3, 5, 7]"
      ]
     },
     "execution_count": 20,
     "metadata": {},
     "output_type": "execute_result"
    }
   ],
   "source": [
    "k_range = [4, 5, 6]\n",
    "k_range"
   ]
  },
  {
   "cell_type": "code",
   "execution_count": 22,
   "metadata": {
    "scrolled": true
   },
   "outputs": [
    {
     "name": "stdout",
     "output_type": "stream",
     "text": [
      "Running <class 'sklearn.neighbors._classification.KNeighborsClassifier'>\n",
      "Best parameters set found on development set:\n",
      "\n",
      "{'algorithm': 'auto', 'n_neighbors': 5, 'p': 1, 'weights': 'uniform'}\n",
      "\n",
      "Grid scores on development set:\n",
      "\n",
      "0.493 (+/-0.473) for {'algorithm': 'auto', 'n_neighbors': 3, 'p': 1, 'weights': 'uniform'}\n",
      "0.493 (+/-0.473) for {'algorithm': 'auto', 'n_neighbors': 3, 'p': 1, 'weights': 'distance'}\n",
      "0.335 (+/-0.515) for {'algorithm': 'auto', 'n_neighbors': 3, 'p': 2, 'weights': 'uniform'}\n",
      "0.335 (+/-0.515) for {'algorithm': 'auto', 'n_neighbors': 3, 'p': 2, 'weights': 'distance'}\n",
      "0.327 (+/-0.499) for {'algorithm': 'auto', 'n_neighbors': 3, 'p': 3, 'weights': 'uniform'}\n",
      "0.327 (+/-0.499) for {'algorithm': 'auto', 'n_neighbors': 3, 'p': 3, 'weights': 'distance'}\n",
      "0.510 (+/-0.070) for {'algorithm': 'auto', 'n_neighbors': 5, 'p': 1, 'weights': 'uniform'}\n",
      "0.510 (+/-0.070) for {'algorithm': 'auto', 'n_neighbors': 5, 'p': 1, 'weights': 'distance'}\n",
      "0.438 (+/-0.042) for {'algorithm': 'auto', 'n_neighbors': 5, 'p': 2, 'weights': 'uniform'}\n",
      "0.438 (+/-0.042) for {'algorithm': 'auto', 'n_neighbors': 5, 'p': 2, 'weights': 'distance'}\n",
      "0.341 (+/-0.321) for {'algorithm': 'auto', 'n_neighbors': 5, 'p': 3, 'weights': 'uniform'}\n",
      "0.341 (+/-0.321) for {'algorithm': 'auto', 'n_neighbors': 5, 'p': 3, 'weights': 'distance'}\n",
      "0.432 (+/-0.050) for {'algorithm': 'auto', 'n_neighbors': 7, 'p': 1, 'weights': 'uniform'}\n",
      "0.432 (+/-0.050) for {'algorithm': 'auto', 'n_neighbors': 7, 'p': 1, 'weights': 'distance'}\n",
      "0.388 (+/-0.034) for {'algorithm': 'auto', 'n_neighbors': 7, 'p': 2, 'weights': 'uniform'}\n",
      "0.393 (+/-0.040) for {'algorithm': 'auto', 'n_neighbors': 7, 'p': 2, 'weights': 'distance'}\n",
      "0.357 (+/-0.039) for {'algorithm': 'auto', 'n_neighbors': 7, 'p': 3, 'weights': 'uniform'}\n",
      "0.373 (+/-0.078) for {'algorithm': 'auto', 'n_neighbors': 7, 'p': 3, 'weights': 'distance'}\n",
      "\n",
      "Detailed classification report:\n",
      "\n",
      "The model is trained on the full development set.\n",
      "The scores are computed on the full evaluation set.\n",
      "\n",
      "              precision    recall  f1-score   support\n",
      "\n",
      "           0       1.00      1.00      1.00      4005\n",
      "           1       0.91      0.81      0.85        83\n",
      "\n",
      "    accuracy                           0.99      4088\n",
      "   macro avg       0.95      0.90      0.93      4088\n",
      "weighted avg       0.99      0.99      0.99      4088\n",
      "\n",
      "\n",
      "CPU times: user 18.7 s, sys: 191 ms, total: 18.9 s\n",
      "Wall time: 13min\n"
     ]
    }
   ],
   "source": [
    "%%time\n",
    "knn = grid_search(\n",
    "    data=data.b278, \n",
    "    estimator=KNeighborsClassifier(),\n",
    "    param_grid=[{\n",
    "        \"weights\": ['uniform', 'distance'], \n",
    "        \"algorithm\": ['auto'],\n",
    "        \"p\": [1, 2, 3],\n",
    "        \"n_neighbors\": k_range}])"
   ]
  },
  {
   "cell_type": "markdown",
   "metadata": {},
   "source": [
    "## Random Forest"
   ]
  },
  {
   "cell_type": "code",
   "execution_count": 23,
   "metadata": {},
   "outputs": [
    {
     "name": "stdout",
     "output_type": "stream",
     "text": [
      "Running <class 'sklearn.ensemble._forest.RandomForestClassifier'>\n",
      "Best parameters set found on development set:\n",
      "\n",
      "{'criterion': 'entropy', 'max_features': 'log2', 'min_samples_split': 2, 'n_estimators': 500, 'n_jobs': -1}\n",
      "\n",
      "Grid scores on development set:\n",
      "\n",
      "0.631 (+/-0.143) for {'criterion': 'entropy', 'max_features': 'auto', 'min_samples_split': 2, 'n_estimators': 500, 'n_jobs': -1}\n",
      "0.644 (+/-0.201) for {'criterion': 'entropy', 'max_features': 'auto', 'min_samples_split': 5, 'n_estimators': 500, 'n_jobs': -1}\n",
      "0.608 (+/-0.234) for {'criterion': 'entropy', 'max_features': 'auto', 'min_samples_split': 10, 'n_estimators': 500, 'n_jobs': -1}\n",
      "0.629 (+/-0.194) for {'criterion': 'entropy', 'max_features': 'sqrt', 'min_samples_split': 2, 'n_estimators': 500, 'n_jobs': -1}\n",
      "0.615 (+/-0.261) for {'criterion': 'entropy', 'max_features': 'sqrt', 'min_samples_split': 5, 'n_estimators': 500, 'n_jobs': -1}\n",
      "0.600 (+/-0.203) for {'criterion': 'entropy', 'max_features': 'sqrt', 'min_samples_split': 10, 'n_estimators': 500, 'n_jobs': -1}\n",
      "0.658 (+/-0.151) for {'criterion': 'entropy', 'max_features': 'log2', 'min_samples_split': 2, 'n_estimators': 500, 'n_jobs': -1}\n",
      "0.626 (+/-0.180) for {'criterion': 'entropy', 'max_features': 'log2', 'min_samples_split': 5, 'n_estimators': 500, 'n_jobs': -1}\n",
      "0.607 (+/-0.173) for {'criterion': 'entropy', 'max_features': 'log2', 'min_samples_split': 10, 'n_estimators': 500, 'n_jobs': -1}\n",
      "0.504 (+/-0.246) for {'criterion': 'entropy', 'max_features': None, 'min_samples_split': 2, 'n_estimators': 500, 'n_jobs': -1}\n",
      "0.524 (+/-0.264) for {'criterion': 'entropy', 'max_features': None, 'min_samples_split': 5, 'n_estimators': 500, 'n_jobs': -1}\n",
      "0.540 (+/-0.260) for {'criterion': 'entropy', 'max_features': None, 'min_samples_split': 10, 'n_estimators': 500, 'n_jobs': -1}\n",
      "0.611 (+/-0.249) for {'criterion': 'entropy', 'max_features': 0.2, 'min_samples_split': 2, 'n_estimators': 500, 'n_jobs': -1}\n",
      "0.613 (+/-0.236) for {'criterion': 'entropy', 'max_features': 0.2, 'min_samples_split': 5, 'n_estimators': 500, 'n_jobs': -1}\n",
      "0.613 (+/-0.263) for {'criterion': 'entropy', 'max_features': 0.2, 'min_samples_split': 10, 'n_estimators': 500, 'n_jobs': -1}\n",
      "0.555 (+/-0.264) for {'criterion': 'entropy', 'max_features': 0.5, 'min_samples_split': 2, 'n_estimators': 500, 'n_jobs': -1}\n",
      "0.565 (+/-0.291) for {'criterion': 'entropy', 'max_features': 0.5, 'min_samples_split': 5, 'n_estimators': 500, 'n_jobs': -1}\n",
      "0.544 (+/-0.231) for {'criterion': 'entropy', 'max_features': 0.5, 'min_samples_split': 10, 'n_estimators': 500, 'n_jobs': -1}\n",
      "\n",
      "Detailed classification report:\n",
      "\n",
      "The model is trained on the full development set.\n",
      "The scores are computed on the full evaluation set.\n",
      "\n",
      "              precision    recall  f1-score   support\n",
      "\n",
      "           0       0.99      1.00      1.00      4005\n",
      "           1       1.00      0.73      0.85        83\n",
      "\n",
      "    accuracy                           0.99      4088\n",
      "   macro avg       1.00      0.87      0.92      4088\n",
      "weighted avg       0.99      0.99      0.99      4088\n",
      "\n",
      "\n",
      "CPU times: user 1min 12s, sys: 3.16 s, total: 1min 15s\n",
      "Wall time: 19min 24s\n"
     ]
    }
   ],
   "source": [
    "%%time\n",
    "\n",
    "rf = grid_search(\n",
    "    data=data.b278, \n",
    "    estimator=RandomForestClassifier(),\n",
    "    param_grid=[{\n",
    "        'max_features': ['auto', 'sqrt', \"log2\", None, 0.2, 0.5], \n",
    "        \"min_samples_split\": [2, 5, 10],\n",
    "        \"n_estimators\": [500], \n",
    "        \"criterion\": [\"entropy\"], \n",
    "        \"n_jobs\": [-1]}])\n",
    "\n",
    "del rf.best_params_[\"n_jobs\"]"
   ]
  },
  {
   "cell_type": "code",
   "execution_count": 24,
   "metadata": {},
   "outputs": [
    {
     "data": {
      "text/plain": [
       "{'criterion': 'entropy',\n",
       " 'max_features': 'log2',\n",
       " 'min_samples_split': 2,\n",
       " 'n_estimators': 500}"
      ]
     },
     "execution_count": 24,
     "metadata": {},
     "output_type": "execute_result"
    }
   ],
   "source": [
    "rf.best_params_"
   ]
  },
  {
   "cell_type": "code",
   "execution_count": 25,
   "metadata": {},
   "outputs": [
    {
     "data": {
      "text/plain": [
       "['_cache/best_params.pkl.bz2']"
      ]
     },
     "execution_count": 25,
     "metadata": {},
     "output_type": "execute_result"
    }
   ],
   "source": [
    "best_params = {\n",
    "    \"rf\": rf.best_params_,\n",
    "    \"knn\": knn.best_params_,\n",
    "    \"svml\": svc_linear.best_params_,\n",
    "    \"svmr\": svc_rbf.best_params_\n",
    "}\n",
    "\n",
    "joblib.dump(best_params, \"_cache/best_params.pkl.bz2\", compress=3)"
   ]
  },
  {
   "cell_type": "code",
   "execution_count": 26,
   "metadata": {},
   "outputs": [
    {
     "data": {
      "text/plain": [
       "{'rf': {'criterion': 'entropy',\n",
       "  'max_features': 'log2',\n",
       "  'min_samples_split': 2,\n",
       "  'n_estimators': 500},\n",
       " 'knn': {'algorithm': 'auto', 'n_neighbors': 5, 'p': 1, 'weights': 'uniform'},\n",
       " 'svml': {'C': 50, 'kernel': 'linear', 'probability': True},\n",
       " 'svmr': {'C': 10, 'gamma': 0.003, 'kernel': 'rbf', 'probability': True}}"
      ]
     },
     "execution_count": 26,
     "metadata": {},
     "output_type": "execute_result"
    }
   ],
   "source": [
    "best_params"
   ]
  },
  {
   "cell_type": "code",
   "execution_count": 27,
   "metadata": {},
   "outputs": [
    {
     "data": {
      "text/plain": [
       "datetime.datetime(2020, 1, 23, 9, 31, 24, 990982)"
      ]
     },
     "execution_count": 27,
     "metadata": {},
     "output_type": "execute_result"
    }
   ],
   "source": [
    "import datetime\n",
    "datetime.datetime.now()"
   ]
  },
  {
   "cell_type": "code",
   "execution_count": null,
   "metadata": {},
   "outputs": [],
   "source": []
  }
 ],
 "metadata": {
  "kernelspec": {
   "display_name": "Python 3",
   "language": "python",
   "name": "python3"
  },
  "language_info": {
   "codemirror_mode": {
    "name": "ipython",
    "version": 3
   },
   "file_extension": ".py",
   "mimetype": "text/x-python",
   "name": "python",
   "nbconvert_exporter": "python",
   "pygments_lexer": "ipython3",
   "version": "3.7.5"
  }
 },
 "nbformat": 4,
 "nbformat_minor": 4
}
